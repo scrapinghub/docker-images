{
 "metadata": {
  "name": ""
 },
 "nbformat": 3,
 "nbformat_minor": 0,
 "worksheets": [
  {
   "cells": [
    {
     "cell_type": "code",
     "collapsed": false,
     "input": [
      "%pylab inline\n",
      "\n",
      "import os\n",
      "\n",
      "import numpy as np\n",
      "import pandas as pd\n",
      "\n",
      "import scrapinghub\n",
      "import hubstorage\n",
      "\n",
      "APIKEY = os.environ.get('SH_APIKEY')\n",
      "shconn = scrapinghub.Connection(APIKEY)\n",
      "hsconn = hubstorage.HubstorageClient(auth=APIKEY)"
     ],
     "language": "python",
     "metadata": {},
     "outputs": []
    },
    {
     "cell_type": "code",
     "collapsed": false,
     "input": [
      "PROJECT = '11111'\n",
      "project = shconn[PROJECT]"
     ],
     "language": "python",
     "metadata": {},
     "outputs": []
    }
   ],
   "metadata": {}
  }
 ]
}
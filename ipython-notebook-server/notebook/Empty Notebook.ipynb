{
 "metadata": {
  "name": "",
  "signature": "sha256:3ae768c50bada88ddb3edc26617c8237cf497f04d3e8e0583286599b518b5bab"
 },
 "nbformat": 3,
 "nbformat_minor": 0,
 "worksheets": []
}